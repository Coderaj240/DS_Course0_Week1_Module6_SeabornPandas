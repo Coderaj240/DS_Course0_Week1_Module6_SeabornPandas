{
 "cells": [
  {
   "cell_type": "markdown",
   "id": "7dbf7564",
   "metadata": {
    "id": "7dbf7564"
   },
   "source": [
    "# Lab - Data Visualizations with Seaborn & Pandas"
   ]
  },
  {
   "cell_type": "markdown",
   "id": "d198f9a3",
   "metadata": {
    "ExecuteTime": {
     "end_time": "2024-07-11T15:08:37.811654Z",
     "start_time": "2024-07-11T15:08:37.803487Z"
    },
    "id": "d198f9a3"
   },
   "source": [
    "## Introduction"
   ]
  },
  {
   "cell_type": "markdown",
   "id": "d8856149",
   "metadata": {
    "id": "d8856149"
   },
   "source": [
    "In this lab, you will apply your knowledge of the advanced visualization library Seaborn to generate plots that provide insight into the popular `tips` dataset."
   ]
  },
  {
   "cell_type": "markdown",
   "id": "a0052bbf",
   "metadata": {
    "id": "a0052bbf"
   },
   "source": [
    "## Objectives"
   ]
  },
  {
   "cell_type": "markdown",
   "id": "iadd-sX1g4v-",
   "metadata": {
    "id": "iadd-sX1g4v-"
   },
   "source": [
    "You will be able to:\n",
    "    \n",
    "- Create a boxplot using Seaborn\n",
    "- Label plots with appropriate axis labels and titles\n",
    "- Create an lmplot using Seaborn\n",
    "- Create a subplot using Seaborn\n",
    "- Create data visualizations with Pandas"
   ]
  },
  {
   "cell_type": "markdown",
   "id": "8jPoobpQg72U",
   "metadata": {
    "id": "8jPoobpQg72U"
   },
   "source": [
    "## Part I: Seaborn\n",
    "\n",
    "We will use a randomly generated data set to practice using Seaborn. Begin by running the below code without change."
   ]
  },
  {
   "cell_type": "code",
   "execution_count": 5,
   "id": "Wgj01PA7h4jQ",
   "metadata": {
    "id": "Wgj01PA7h4jQ"
   },
   "outputs": [],
   "source": [
    "# CodeGrade step0\n",
    "# Run this cell without changes\n",
    "\n",
    "import numpy as np\n",
    "import pandas as pd\n",
    "import seaborn as sns\n",
    "import matplotlib.pyplot as plt\n",
    "\n",
    "# The seed must be 42 for the data to replicate\n",
    "seed = 42\n",
    "\n",
    "# Data\n",
    "data = np.random.normal(size=(20, 10)) + np.arange(10) / 2"
   ]
  },
  {
   "cell_type": "markdown",
   "id": "Hq55Pd_mjRAr",
   "metadata": {
    "id": "Hq55Pd_mjRAr"
   },
   "source": [
    "We'll being with basic visualizations with Seaborn."
   ]
  },
  {
   "cell_type": "markdown",
   "id": "dz9ywOCtir1t",
   "metadata": {
    "id": "dz9ywOCtir1t"
   },
   "source": [
    "### Step 1\n",
    "\n",
    "Create a boxplot and pass in the parameter data=data. Store the object returned in the variable boxplot1."
   ]
  },
  {
   "cell_type": "code",
   "execution_count": null,
   "id": "pBe5Tvdvixv4",
   "metadata": {
    "id": "pBe5Tvdvixv4"
   },
   "outputs": [],
   "source": [
    "# CodeGrade step1\n",
    "# Replace None with your code\n",
    "\n",
    "boxplot1 = None"
   ]
  },
  {
   "cell_type": "markdown",
   "id": "LfOPe5Zyi3Sh",
   "metadata": {
    "id": "LfOPe5Zyi3Sh"
   },
   "source": [
    "### Step 2\n",
    "Repeat step 1 creating another boxplot, but now also call the boxplot object's set() method and pass in the following parameters:\n",
    "* xlabel= 'X Label'\n",
    "* ylabel= 'Y Label'\n",
    "* title = 'Example Boxplot'"
   ]
  },
  {
   "cell_type": "code",
   "execution_count": 3,
   "id": "Qif9hCfQjIkN",
   "metadata": {
    "id": "Qif9hCfQjIkN"
   },
   "outputs": [],
   "source": [
    "# CodeGrade step2\n",
    "# Replace None with your code\n",
    "\n",
    "boxplot2 = None\n",
    "None"
   ]
  },
  {
   "cell_type": "markdown",
   "id": "s1Zx8ZbQjVBS",
   "metadata": {
    "id": "s1Zx8ZbQjVBS"
   },
   "source": [
    "Now we'll move to changing style and content."
   ]
  },
  {
   "cell_type": "markdown",
   "id": "AQSKa6zgjZvK",
   "metadata": {
    "id": "AQSKa6zgjZvK"
   },
   "source": [
    "### Step 3\n",
    "\n",
    "Repeat step 2, but now call Seaborn's 'set_style()' method first and pass in the string 'darkgrid'. Still include title and axis labels."
   ]
  },
  {
   "cell_type": "code",
   "execution_count": 4,
   "id": "WkT6dKgRjaBJ",
   "metadata": {
    "id": "WkT6dKgRjaBJ"
   },
   "outputs": [],
   "source": [
    "# CodeGrade step3\n",
    "# Replace None with your code\n",
    "\n",
    "None\n",
    "boxplot3 = None\n",
    "None"
   ]
  },
  {
   "cell_type": "markdown",
   "id": "TrxXN8izs44F",
   "metadata": {
    "id": "TrxXN8izs44F"
   },
   "source": [
    "Now we'll move to changing style and content."
   ]
  },
  {
   "cell_type": "markdown",
   "id": "5kiPMgX_jrwM",
   "metadata": {
    "id": "5kiPMgX_jrwM"
   },
   "source": [
    "### Step 4\n",
    "\n",
    "While the plot looks much better now, the size of the text for ticks and axis labels is so small that it would be hard for people to read it unless they're right in front of the monitor--that's a problem, if the visualizations are going to be used in something like a tech talk or presentation.\n",
    "\n",
    "* Call Seaborn's set_context() method and pass in the string 'poster' (the default is 'notebook')\n",
    "* Recreate the labeled boxplot that we made in Step 3\n",
    "\n"
   ]
  },
  {
   "cell_type": "code",
   "execution_count": 5,
   "id": "95qfZVTKjr4i",
   "metadata": {
    "id": "95qfZVTKjr4i"
   },
   "outputs": [],
   "source": [
    "# CodeGrade step4\n",
    "# Replace None with your code\n",
    "\n",
    "None\n",
    "boxplot4 = None\n",
    "None"
   ]
  },
  {
   "cell_type": "markdown",
   "id": "eB6GuaTEm6aC",
   "metadata": {
    "id": "eB6GuaTEm6aC"
   },
   "source": [
    "We'll now turn to the canonical Seaborn peguins dataset."
   ]
  },
  {
   "cell_type": "code",
   "execution_count": 11,
   "id": "SJbaN3_Lm-3Z",
   "metadata": {
    "colab": {
     "base_uri": "https://localhost:8080/",
     "height": 424
    },
    "id": "SJbaN3_Lm-3Z",
    "outputId": "525808a2-7590-4c61-ba64-d9895a375eec"
   },
   "outputs": [
    {
     "data": {
      "text/html": [
       "<div>\n",
       "<style scoped>\n",
       "    .dataframe tbody tr th:only-of-type {\n",
       "        vertical-align: middle;\n",
       "    }\n",
       "\n",
       "    .dataframe tbody tr th {\n",
       "        vertical-align: top;\n",
       "    }\n",
       "\n",
       "    .dataframe thead th {\n",
       "        text-align: right;\n",
       "    }\n",
       "</style>\n",
       "<table border=\"1\" class=\"dataframe\">\n",
       "  <thead>\n",
       "    <tr style=\"text-align: right;\">\n",
       "      <th></th>\n",
       "      <th>species</th>\n",
       "      <th>island</th>\n",
       "      <th>bill_length_mm</th>\n",
       "      <th>bill_depth_mm</th>\n",
       "      <th>flipper_length_mm</th>\n",
       "      <th>body_mass_g</th>\n",
       "      <th>sex</th>\n",
       "    </tr>\n",
       "  </thead>\n",
       "  <tbody>\n",
       "    <tr>\n",
       "      <th>0</th>\n",
       "      <td>Adelie</td>\n",
       "      <td>Torgersen</td>\n",
       "      <td>39.1</td>\n",
       "      <td>18.7</td>\n",
       "      <td>181.0</td>\n",
       "      <td>3750.0</td>\n",
       "      <td>Male</td>\n",
       "    </tr>\n",
       "    <tr>\n",
       "      <th>1</th>\n",
       "      <td>Adelie</td>\n",
       "      <td>Torgersen</td>\n",
       "      <td>39.5</td>\n",
       "      <td>17.4</td>\n",
       "      <td>186.0</td>\n",
       "      <td>3800.0</td>\n",
       "      <td>Female</td>\n",
       "    </tr>\n",
       "    <tr>\n",
       "      <th>2</th>\n",
       "      <td>Adelie</td>\n",
       "      <td>Torgersen</td>\n",
       "      <td>40.3</td>\n",
       "      <td>18.0</td>\n",
       "      <td>195.0</td>\n",
       "      <td>3250.0</td>\n",
       "      <td>Female</td>\n",
       "    </tr>\n",
       "    <tr>\n",
       "      <th>3</th>\n",
       "      <td>Adelie</td>\n",
       "      <td>Torgersen</td>\n",
       "      <td>NaN</td>\n",
       "      <td>NaN</td>\n",
       "      <td>NaN</td>\n",
       "      <td>NaN</td>\n",
       "      <td>NaN</td>\n",
       "    </tr>\n",
       "    <tr>\n",
       "      <th>4</th>\n",
       "      <td>Adelie</td>\n",
       "      <td>Torgersen</td>\n",
       "      <td>36.7</td>\n",
       "      <td>19.3</td>\n",
       "      <td>193.0</td>\n",
       "      <td>3450.0</td>\n",
       "      <td>Female</td>\n",
       "    </tr>\n",
       "  </tbody>\n",
       "</table>\n",
       "</div>"
      ],
      "text/plain": [
       "  species     island  bill_length_mm  bill_depth_mm  flipper_length_mm  \\\n",
       "0  Adelie  Torgersen            39.1           18.7              181.0   \n",
       "1  Adelie  Torgersen            39.5           17.4              186.0   \n",
       "2  Adelie  Torgersen            40.3           18.0              195.0   \n",
       "3  Adelie  Torgersen             NaN            NaN                NaN   \n",
       "4  Adelie  Torgersen            36.7           19.3              193.0   \n",
       "\n",
       "   body_mass_g     sex  \n",
       "0       3750.0    Male  \n",
       "1       3800.0  Female  \n",
       "2       3250.0  Female  \n",
       "3          NaN     NaN  \n",
       "4       3450.0  Female  "
      ]
     },
     "execution_count": 11,
     "metadata": {},
     "output_type": "execute_result"
    }
   ],
   "source": [
    "# CodeGrade step0\n",
    "# Run this cell without changes\n",
    "\n",
    "penguins = pd.read_csv(\"penguins.csv\")\n",
    "penguins.head()"
   ]
  },
  {
   "cell_type": "markdown",
   "id": "DqyOt8UEl-zG",
   "metadata": {
    "id": "DqyOt8UEl-zG"
   },
   "source": [
    "### Step 5\n",
    "\n",
    "Now use Seaborn to create a histogram of the 'body_mass_g' column with the following parameters:\n",
    "*   context is set to 'talk'\n",
    "*   the width of the bins is set to 100\n",
    "*   color of the bars should distinguish male and female from eachother\n",
    "*   the horizontal axis should be 'Body Mass (g)', the vertical axis 'Number of Penguins', and the title 'Penguin Mass Distribution by Sex'\n",
    "\n"
   ]
  },
  {
   "cell_type": "code",
   "execution_count": 7,
   "id": "AoDerbaZkdfL",
   "metadata": {
    "id": "AoDerbaZkdfL"
   },
   "outputs": [],
   "source": [
    "# CodeGrade step5\n",
    "# Replace None with your code\n",
    "\n",
    "None\n",
    "histplot1 = None\n",
    "None\n"
   ]
  },
  {
   "cell_type": "markdown",
   "id": "89vbnhQ_pO-7",
   "metadata": {
    "id": "89vbnhQ_pO-7"
   },
   "source": [
    "### Step 6\n",
    "\n",
    "Create a scatter plot of the bill length (horizontal axis) vs. the bill depth (vertical axis) with the following parameters:\n",
    "\n",
    "* the context set to paper\n",
    "* have the points color represent the sex\n",
    "* have the points shape/style represent the species\n",
    "* label the horizontal axis 'Bill Length (mm)', the vertical axis 'Bill Depth (mm)', and the title 'Scatterplot of Bill Sizes of Penguins'"
   ]
  },
  {
   "cell_type": "code",
   "execution_count": 8,
   "id": "ZpoLwr6ZpJ-i",
   "metadata": {
    "id": "ZpoLwr6ZpJ-i"
   },
   "outputs": [],
   "source": [
    "# CodeGrade Step6\n",
    "# Replace None with your code\n",
    "\n",
    "None\n",
    "scatterplot1 = None\n",
    "None"
   ]
  },
  {
   "cell_type": "markdown",
   "id": "3a7a1816",
   "metadata": {},
   "source": [
    "## Part II: Pandas"
   ]
  },
  {
   "cell_type": "markdown",
   "id": "5d0a2554",
   "metadata": {},
   "source": [
    "### Visualizing High Dimensional Data\n",
    "\n",
    "Pandas also has plotting tools that help with visualizing high dimensional data, i.e., way too many columns/variables to inspect individually. Let's explore some of these features by loading in the iris flower dataset.\n",
    "\n",
    "The iris dataset is a classic multivariate dataset, which includes the sepal length, sepal width, petal length, and petal width for hundreds of samples of three species of the iris flower."
   ]
  },
  {
   "cell_type": "code",
   "execution_count": 16,
   "id": "0ecc5d4f",
   "metadata": {},
   "outputs": [
    {
     "data": {
      "text/html": [
       "<div>\n",
       "<style scoped>\n",
       "    .dataframe tbody tr th:only-of-type {\n",
       "        vertical-align: middle;\n",
       "    }\n",
       "\n",
       "    .dataframe tbody tr th {\n",
       "        vertical-align: top;\n",
       "    }\n",
       "\n",
       "    .dataframe thead th {\n",
       "        text-align: right;\n",
       "    }\n",
       "</style>\n",
       "<table border=\"1\" class=\"dataframe\">\n",
       "  <thead>\n",
       "    <tr style=\"text-align: right;\">\n",
       "      <th></th>\n",
       "      <th>sepal_length</th>\n",
       "      <th>sepal_width</th>\n",
       "      <th>petal_length</th>\n",
       "      <th>petal_width</th>\n",
       "      <th>species</th>\n",
       "    </tr>\n",
       "  </thead>\n",
       "  <tbody>\n",
       "    <tr>\n",
       "      <th>0</th>\n",
       "      <td>5.1</td>\n",
       "      <td>3.5</td>\n",
       "      <td>1.4</td>\n",
       "      <td>0.2</td>\n",
       "      <td>setosa</td>\n",
       "    </tr>\n",
       "    <tr>\n",
       "      <th>1</th>\n",
       "      <td>4.9</td>\n",
       "      <td>3.0</td>\n",
       "      <td>1.4</td>\n",
       "      <td>0.2</td>\n",
       "      <td>setosa</td>\n",
       "    </tr>\n",
       "    <tr>\n",
       "      <th>2</th>\n",
       "      <td>4.7</td>\n",
       "      <td>3.2</td>\n",
       "      <td>1.3</td>\n",
       "      <td>0.2</td>\n",
       "      <td>setosa</td>\n",
       "    </tr>\n",
       "    <tr>\n",
       "      <th>3</th>\n",
       "      <td>4.6</td>\n",
       "      <td>3.1</td>\n",
       "      <td>1.5</td>\n",
       "      <td>0.2</td>\n",
       "      <td>setosa</td>\n",
       "    </tr>\n",
       "    <tr>\n",
       "      <th>4</th>\n",
       "      <td>5.0</td>\n",
       "      <td>3.6</td>\n",
       "      <td>1.4</td>\n",
       "      <td>0.2</td>\n",
       "      <td>setosa</td>\n",
       "    </tr>\n",
       "  </tbody>\n",
       "</table>\n",
       "</div>"
      ],
      "text/plain": [
       "   sepal_length  sepal_width  petal_length  petal_width species\n",
       "0           5.1          3.5           1.4          0.2  setosa\n",
       "1           4.9          3.0           1.4          0.2  setosa\n",
       "2           4.7          3.2           1.3          0.2  setosa\n",
       "3           4.6          3.1           1.5          0.2  setosa\n",
       "4           5.0          3.6           1.4          0.2  setosa"
      ]
     },
     "execution_count": 16,
     "metadata": {},
     "output_type": "execute_result"
    }
   ],
   "source": [
    "# CodeGrade step0\n",
    "# Run this cell without changes\n",
    "\n",
    "iris = pd.read_csv(\"iris.csv\")\n",
    "iris.head()"
   ]
  },
  {
   "cell_type": "markdown",
   "id": "ab7eaf7b",
   "metadata": {},
   "source": [
    "### Step 7\n",
    "\n",
    "Pandas has a plotting tool that allows us to create a scatter matrix from a DataFrame. A scatter matrix is a way of comparing each column in a DataFrame to every other column in a pairwise fashion.\n",
    "\n",
    "The scatter matrix creates scatter plots between the different variables and histograms along the diagonals.\n",
    "\n",
    "This allows us to quickly see some of the more obvious patterns in the dataset. Let's use it to visualize the iris DataFrame and see what insights we can gain from our data. We will use the method `pd.tools.plotting.scatter_matrix()` and pass in our iris dataset as an argument."
   ]
  },
  {
   "cell_type": "code",
   "execution_count": null,
   "id": "6840c9cb",
   "metadata": {},
   "outputs": [],
   "source": [
    "# CodeGrade Step7\n",
    "# Replace None with your code\n",
    "\n",
    "scatter_matrix = None"
   ]
  },
  {
   "cell_type": "markdown",
   "id": "4c8f1ee1",
   "metadata": {},
   "source": [
    "### Step 8\n",
    "\n",
    "Now repeat the previous step, but using 'pairplot' from Seaborn and letting hue be set to 'species'."
   ]
  },
  {
   "cell_type": "code",
   "execution_count": null,
   "id": "84d1fe5c",
   "metadata": {},
   "outputs": [],
   "source": [
    "# CodeGrade Step8\n",
    "# Replace None with your code\n",
    "\n",
    "pair_plot = None"
   ]
  },
  {
   "cell_type": "markdown",
   "id": "e6de73af",
   "metadata": {},
   "source": [
    "You should contemplate the similarities and differences between the two visual outputs."
   ]
  },
  {
   "cell_type": "markdown",
   "id": "1b6c891c",
   "metadata": {},
   "source": [
    "### Step 9\n",
    "\n",
    "Pandas includes a plotting tool for creating parallel coordinates plots which could be a great way to visualize multivariate data.\n",
    "\n",
    "Parallel coordinate plots are a common way of visualizing high dimensional multivariate data. Each variable in the dataset corresponds to an equally-spaced, parallel, vertical line. The values of each variable are then connected by lines between for each individual observation.\n",
    "\n",
    "Let's create a parallel plot for the 4 predictor variables in the iris dataset and see if we can make any further judgments about the nature of data. We will use the `pd.plotting.parellel_coordinates()` function and pass in the iris dataset with the response column (species) as an argument. Let's also apply some customizations.\n",
    "\n",
    "Color the lines by 'species' (this will allow handy inspection to see any patterns). "
   ]
  },
  {
   "cell_type": "code",
   "execution_count": null,
   "id": "85535540",
   "metadata": {},
   "outputs": [],
   "source": [
    "# CodeGrade Step9\n",
    "# Replace None with your code\n",
    "\n",
    "# Use this colormap for the color argument\n",
    "colormap = ('skyblue', 'salmon', 'lightgreen')\n",
    "\n",
    "parallel_coordinates = None"
   ]
  }
 ],
 "metadata": {
  "colab": {
   "provenance": []
  },
  "kernelspec": {
   "display_name": "Python 3",
   "language": "python",
   "name": "python3"
  },
  "language_info": {
   "codemirror_mode": {
    "name": "ipython",
    "version": 3
   },
   "file_extension": ".py",
   "mimetype": "text/x-python",
   "name": "python",
   "nbconvert_exporter": "python",
   "pygments_lexer": "ipython3",
   "version": "3.8.5"
  },
  "toc": {
   "base_numbering": 1,
   "nav_menu": {},
   "number_sections": true,
   "sideBar": true,
   "skip_h1_title": false,
   "title_cell": "Table of Contents",
   "title_sidebar": "Contents",
   "toc_cell": false,
   "toc_position": {},
   "toc_section_display": true,
   "toc_window_display": false
  }
 },
 "nbformat": 4,
 "nbformat_minor": 5
}
